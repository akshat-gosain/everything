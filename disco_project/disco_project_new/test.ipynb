{
 "cells": [
  {
   "cell_type": "code",
   "execution_count": 1,
   "id": "2ccd426c",
   "metadata": {},
   "outputs": [
    {
     "name": "stdout",
     "output_type": "stream",
     "text": [
      "Enter dataset numer: 2\n"
     ]
    },
    {
     "ename": "NameError",
     "evalue": "name 'pd' is not defined",
     "output_type": "error",
     "traceback": [
      "\u001b[1;31m---------------------------------------------------------------------------\u001b[0m",
      "\u001b[1;31mNameError\u001b[0m                                 Traceback (most recent call last)",
      "Cell \u001b[1;32mIn[1], line 5\u001b[0m\n\u001b[0;32m      3\u001b[0m     df \u001b[38;5;241m=\u001b[39m pd\u001b[38;5;241m.\u001b[39mread_csv(\u001b[38;5;124m\"\u001b[39m\u001b[38;5;124mdata_set - Sheet1.csv\u001b[39m\u001b[38;5;124m\"\u001b[39m)\n\u001b[0;32m      4\u001b[0m \u001b[38;5;28;01melif\u001b[39;00m a\u001b[38;5;241m==\u001b[39m\u001b[38;5;241m2\u001b[39m:\n\u001b[1;32m----> 5\u001b[0m     df \u001b[38;5;241m=\u001b[39m pd\u001b[38;5;241m.\u001b[39mread_csv(\u001b[38;5;124m\"\u001b[39m\u001b[38;5;124mdata_set - Sheet2.csv\u001b[39m\u001b[38;5;124m\"\u001b[39m)\n\u001b[0;32m      6\u001b[0m \u001b[38;5;28;01melif\u001b[39;00m a\u001b[38;5;241m==\u001b[39m\u001b[38;5;241m3\u001b[39m:\n\u001b[0;32m      7\u001b[0m     df \u001b[38;5;241m=\u001b[39m pd\u001b[38;5;241m.\u001b[39mread_csv(\u001b[38;5;124m\"\u001b[39m\u001b[38;5;124mdata_set - Sheet3.csv\u001b[39m\u001b[38;5;124m\"\u001b[39m)\n",
      "\u001b[1;31mNameError\u001b[0m: name 'pd' is not defined"
     ]
    }
   ],
   "source": [
    "a=int(input(\"Enter dataset numer: \"))\n",
    "if a==1:\n",
    "    df = pd.read_csv(\"data_set - Sheet1.csv\")\n",
    "elif a==2:\n",
    "    df = pd.read_csv(\"data_set - Sheet2.csv\")\n",
    "elif a==3:\n",
    "    df = pd.read_csv(\"data_set - Sheet3.csv\")\n",
    "elif a==4:\n",
    "    df = pd.read_csv(\"data_set - Sheet4.csv\")\n",
    "elif a==5:\n",
    "    df = pd.read_csv(\"data_set - Sheet5.csv\")"
   ]
  },
  {
   "cell_type": "code",
   "execution_count": 9,
   "id": "0f5724ce",
   "metadata": {},
   "outputs": [],
   "source": [
    "import pandas as pd"
   ]
  },
  {
   "cell_type": "code",
   "execution_count": 10,
   "id": "6f36351d",
   "metadata": {},
   "outputs": [
    {
     "name": "stdout",
     "output_type": "stream",
     "text": [
      "Enter dataset numer: 1\n"
     ]
    }
   ],
   "source": [
    "a=int(input(\"Enter dataset numer: \"))\n",
    "df = pd.read_csv(f\"data_set - Sheet{a}.csv\")\n"
   ]
  },
  {
   "cell_type": "code",
   "execution_count": 11,
   "id": "6197b329",
   "metadata": {},
   "outputs": [
    {
     "data": {
      "text/html": [
       "<div>\n",
       "<style scoped>\n",
       "    .dataframe tbody tr th:only-of-type {\n",
       "        vertical-align: middle;\n",
       "    }\n",
       "\n",
       "    .dataframe tbody tr th {\n",
       "        vertical-align: top;\n",
       "    }\n",
       "\n",
       "    .dataframe thead th {\n",
       "        text-align: right;\n",
       "    }\n",
       "</style>\n",
       "<table border=\"1\" class=\"dataframe\">\n",
       "  <thead>\n",
       "    <tr style=\"text-align: right;\">\n",
       "      <th></th>\n",
       "      <th>NAME</th>\n",
       "      <th>Rank</th>\n",
       "      <th>CATEGORY</th>\n",
       "      <th>P1</th>\n",
       "      <th>P2</th>\n",
       "      <th>P3</th>\n",
       "      <th>P4</th>\n",
       "      <th>P5</th>\n",
       "      <th>P6</th>\n",
       "      <th>P7</th>\n",
       "      <th>P8</th>\n",
       "      <th>P9</th>\n",
       "      <th>P10</th>\n",
       "    </tr>\n",
       "  </thead>\n",
       "  <tbody>\n",
       "    <tr>\n",
       "      <th>0</th>\n",
       "      <td>Aiden</td>\n",
       "      <td>0</td>\n",
       "      <td>X1</td>\n",
       "      <td>FDC1</td>\n",
       "      <td>HDE2</td>\n",
       "      <td>HDC1</td>\n",
       "      <td>FDE3</td>\n",
       "      <td>HDC3</td>\n",
       "      <td>FDC2</td>\n",
       "      <td>HDE4</td>\n",
       "      <td>FDC9</td>\n",
       "      <td>FDC7</td>\n",
       "      <td>FDE5</td>\n",
       "    </tr>\n",
       "    <tr>\n",
       "      <th>1</th>\n",
       "      <td>Bella</td>\n",
       "      <td>0</td>\n",
       "      <td>X1</td>\n",
       "      <td>FDC9</td>\n",
       "      <td>FDE5</td>\n",
       "      <td>HDE4</td>\n",
       "      <td>HDC3</td>\n",
       "      <td>HDC1</td>\n",
       "      <td>HDE2</td>\n",
       "      <td>FDE3</td>\n",
       "      <td>FDC4</td>\n",
       "      <td>FDC3</td>\n",
       "      <td>FDC8</td>\n",
       "    </tr>\n",
       "    <tr>\n",
       "      <th>2</th>\n",
       "      <td>Caleb</td>\n",
       "      <td>0</td>\n",
       "      <td>X1</td>\n",
       "      <td>FDC11</td>\n",
       "      <td>HDE2</td>\n",
       "      <td>FDC10</td>\n",
       "      <td>HDC4</td>\n",
       "      <td>FDE2</td>\n",
       "      <td>HDE4</td>\n",
       "      <td>HDC1</td>\n",
       "      <td>FDE5</td>\n",
       "      <td>FDC5</td>\n",
       "      <td>FDC4</td>\n",
       "    </tr>\n",
       "    <tr>\n",
       "      <th>3</th>\n",
       "      <td>Delilah</td>\n",
       "      <td>0</td>\n",
       "      <td>X1</td>\n",
       "      <td>HDE2</td>\n",
       "      <td>FDC9</td>\n",
       "      <td>FDC3</td>\n",
       "      <td>FDE4</td>\n",
       "      <td>HDC1</td>\n",
       "      <td>FDC6</td>\n",
       "      <td>HDC4</td>\n",
       "      <td>FDC10</td>\n",
       "      <td>FDE3</td>\n",
       "      <td>HDE1</td>\n",
       "    </tr>\n",
       "    <tr>\n",
       "      <th>4</th>\n",
       "      <td>Ethan</td>\n",
       "      <td>0</td>\n",
       "      <td>X1</td>\n",
       "      <td>HDC2</td>\n",
       "      <td>FDE1</td>\n",
       "      <td>HDE1</td>\n",
       "      <td>HDC1</td>\n",
       "      <td>HDE4</td>\n",
       "      <td>FDC9</td>\n",
       "      <td>FDC7</td>\n",
       "      <td>FDC1</td>\n",
       "      <td>FDE2</td>\n",
       "      <td>FDC6</td>\n",
       "    </tr>\n",
       "  </tbody>\n",
       "</table>\n",
       "</div>"
      ],
      "text/plain": [
       "      NAME  Rank CATEGORY     P1    P2     P3    P4    P5    P6    P7     P8  \\\n",
       "0    Aiden     0       X1   FDC1  HDE2   HDC1  FDE3  HDC3  FDC2  HDE4   FDC9   \n",
       "1    Bella     0       X1   FDC9  FDE5   HDE4  HDC3  HDC1  HDE2  FDE3   FDC4   \n",
       "2    Caleb     0       X1  FDC11  HDE2  FDC10  HDC4  FDE2  HDE4  HDC1   FDE5   \n",
       "3  Delilah     0       X1   HDE2  FDC9   FDC3  FDE4  HDC1  FDC6  HDC4  FDC10   \n",
       "4    Ethan     0       X1   HDC2  FDE1   HDE1  HDC1  HDE4  FDC9  FDC7   FDC1   \n",
       "\n",
       "     P9   P10  \n",
       "0  FDC7  FDE5  \n",
       "1  FDC3  FDC8  \n",
       "2  FDC5  FDC4  \n",
       "3  FDE3  HDE1  \n",
       "4  FDE2  FDC6  "
      ]
     },
     "execution_count": 11,
     "metadata": {},
     "output_type": "execute_result"
    }
   ],
   "source": [
    "df.head()"
   ]
  },
  {
   "cell_type": "code",
   "execution_count": null,
   "id": "8b5d9503",
   "metadata": {},
   "outputs": [],
   "source": []
  }
 ],
 "metadata": {
  "kernelspec": {
   "display_name": "Python 3 (ipykernel)",
   "language": "python",
   "name": "python3"
  },
  "language_info": {
   "codemirror_mode": {
    "name": "ipython",
    "version": 3
   },
   "file_extension": ".py",
   "mimetype": "text/x-python",
   "name": "python",
   "nbconvert_exporter": "python",
   "pygments_lexer": "ipython3",
   "version": "3.11.3"
  }
 },
 "nbformat": 4,
 "nbformat_minor": 5
}
