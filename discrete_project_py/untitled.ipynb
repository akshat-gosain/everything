{
 "cells": [
  {
   "cell_type": "code",
   "execution_count": 1,
   "metadata": {},
   "outputs": [
    {
     "name": "stdout",
     "output_type": "stream",
     "text": [
      "FDC3 HDE3 FDC5 FDE6 FDE3 FDC9 FDC11 HDE2 HDC3 HDC4\n",
      "FDE3 HDC2 FDC6 FDE6 FDC4 HDC4 FDC1 HDE1 FDC5 HDE3\n",
      "FDC6 HDE4 FDC5 HDC1 FDC9 HDE3 FDE2 HDC2 FDE3 FDC3\n",
      "HDC2 HDC4 FDC1 HDE2 FDC5 FDE2 FDC11 HDE3 FDE4 FDC2\n",
      "HDC2 HDE3 FDC9 HDE2 FDC8 FDE3 FDC2 FDC10 HDC1 FDE4\n",
      "HDC3 FDE5 HDE3 HDE4 FDC8 FDE6 FDC7 HDC1 FDC1 FDC5\n",
      "HDE1 FDE1 FDC9 HDC1 FDE3 FDC11 FDC7 HDC2 HDE3 FDC1\n",
      "FDC8 HDE2 FDC1 HDC1 HDE1 FDC10 FDC3 HDC3 FDE2 FDE6\n",
      "FDE6 FDC4 HDE2 HDC1 HDC4 FDC8 HDE4 FDC6 FDE1 FDC5\n",
      "FDC11 FDC10 HDC3 FDC5 HDE4 HDE2 HDC1 FDE1 FDC8 FDE3\n",
      "HDE3 HDC4 FDC3 FDC8 HDC3 FDC6 FDC10 FDE4 HDE2 FDE3\n",
      "HDE1 FDE2 FDC1 FDE1 HDE4 FDC8 HDC3 HDC1 FDC11 FDC9\n",
      "HDC3 HDE3 FDE3 FDC4 FDC3 HDC2 FDC2 HDE4 FDE5 FDC7\n",
      "FDC7 FDE6 HDC2 FDC8 FDC6 HDC1 FDE4 HDE3 FDC1 HDE4\n",
      "FDC3 HDC1 FDC8 HDE2 HDC2 FDE4 FDC10 FDE1 FDC4 HDE4\n",
      "HDE4 FDE6 FDC6 HDC4 FDC1 FDC2 HDE2 FDE1 FDC4 HDC2\n",
      "HDE1 FDC3 FDC9 FDC4 FDE2 FDE5 HDC3 HDC1 HDE3 FDC10\n",
      "FDC11 FDC5 HDE1 FDE2 FDC6 HDE3 HDC2 FDC9 HDC1 FDE5\n",
      "FDC9 FDC8 FDE3 HDE4 HDC2 FDC7 HDC1 HDE3 FDE5 FDC3\n",
      "FDE3 FDE2 FDC1 HDC4 HDE3 FDC11 FDC6 FDC7 HDC2 HDE1\n",
      "FDC9 FDE4 FDC3 FDC2 HDC1 HDC2 HDE4 FDC7 FDE5 HDE3\n",
      "FDC7 HDE3 FDC6 HDC4 HDC3 FDC4 FDE2 HDE4 FDC8 FDE1\n",
      "FDC6 FDE5 FDC9 FDC10 FDE1 HDE1 HDC4 FDC1 HDC3 HDE4\n",
      "FDC9 HDC4 FDC7 FDC10 FDE5 HDE4 FDC5 HDC1 FDE4 HDE1\n",
      "HDE3 HDC2 FDC7 FDC6 FDC5 FDE4 FDC4 HDC3 FDE1 HDE1\n",
      "HDC1 FDC4 FDC2 FDC8 HDC2 HDE2 FDC11 FDE1 HDE3 FDE4\n",
      "HDE4 FDE5 HDC3 FDC7 FDC2 FDC3 FDE2 HDE2 FDC9 HDC4\n",
      "HDC4 FDC7 HDC3 HDE2 HDE3 FDC3 FDE3 FDC11 FDC1 FDE2\n",
      "FDE4 HDC3 FDE5 FDC10 FDC7 HDE2 FDC11 HDC2 FDC2 HDE4\n",
      "HDE4 HDC2 HDC1 FDC11 FDC5 FDE4 FDE1 FDC1 HDE3 FDC6\n"
     ]
    }
   ],
   "source": [
    "import random\n",
    "from itertools import combinations\n",
    "\n",
    "# Your list\n",
    "lst = ['FDC1', 'FDC2', 'FDC3', 'FDC4', 'FDC5', 'FDC6', 'FDC7', 'FDC8', 'FDC9', 'FDC10', 'FDC11', 'HDC1', 'HDC2', 'HDC3', 'HDC4', 'FDE1', 'FDE2', 'FDE3', 'FDE4', 'FDE5', 'FDE6', 'HDE1', 'HDE2', 'HDE3', 'HDE4']\n",
    "\n",
    "# Split the list into parts\n",
    "part1 = lst[:11]\n",
    "part2 = lst[11:15]\n",
    "part3 = lst[15:21]\n",
    "part4 = lst[21:25]\n",
    "\n",
    "# Generate combinations\n",
    "combinations = []\n",
    "for _ in range(30):\n",
    "    combination = random.sample(part1, 4) + random.sample(part2, 2) + random.sample(part3, 2) + random.sample(part4, 2)\n",
    "    combinations.append(combination)\n",
    "\n",
    "# Print the combinations\n",
    "for combination in combinations:\n",
    "    Comb = random.sample(combination, 10)\n",
    "    print(*Comb)"
   ]
  }
 ],
 "metadata": {
  "kernelspec": {
   "display_name": "Python 3",
   "language": "python",
   "name": "python3"
  },
  "language_info": {
   "codemirror_mode": {
    "name": "ipython",
    "version": 3
   },
   "file_extension": ".py",
   "mimetype": "text/x-python",
   "name": "python",
   "nbconvert_exporter": "python",
   "pygments_lexer": "ipython3",
   "version": "3.10.12"
  }
 },
 "nbformat": 4,
 "nbformat_minor": 2
}
